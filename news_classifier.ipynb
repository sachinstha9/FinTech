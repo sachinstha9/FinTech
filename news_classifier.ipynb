{
 "cells": [
  {
   "cell_type": "code",
   "execution_count": 1,
   "metadata": {},
   "outputs": [],
   "source": [
    "import pandas as pd\n",
    "import numpy as np\n",
    "import finnhub"
   ]
  },
  {
   "cell_type": "code",
   "execution_count": 2,
   "metadata": {},
   "outputs": [],
   "source": [
    "# news fetching\n",
    "finnhub_client = finnhub.Client(api_key=\"d0ir93pr01qnehifshrgd0ir93pr01qnehifshs0\")\n",
    "\n",
    "def news_fetch(ticker, from_, to_):\n",
    "  dates = pd.date_range(start=from_, end=to_)\n",
    "  news = np.array([])\n",
    "  for date in dates:\n",
    "    individual_date_news =  finnhub_client.company_news(ticker, _from=date.date(), to=date.date())\n",
    "    news = np.concatenate((np.array(individual_date_news), np.array(news)), axis=0)\n",
    "  return news"
   ]
  },
  {
   "cell_type": "code",
   "execution_count": null,
   "metadata": {},
   "outputs": [],
   "source": []
  }
 ],
 "metadata": {
  "kernelspec": {
   "display_name": "env",
   "language": "python",
   "name": "python3"
  },
  "language_info": {
   "codemirror_mode": {
    "name": "ipython",
    "version": 3
   },
   "file_extension": ".py",
   "mimetype": "text/x-python",
   "name": "python",
   "nbconvert_exporter": "python",
   "pygments_lexer": "ipython3",
   "version": "3.13.2"
  }
 },
 "nbformat": 4,
 "nbformat_minor": 2
}
